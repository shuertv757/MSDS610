{
 "cells": [
  {
   "cell_type": "markdown",
   "id": "3caa6f30",
   "metadata": {},
   "source": [
    "<img align=\"right\" style=\"padding-left:50px;\" src=\"figures_wk4/figures_wk4/data_cleaning.png\" width=350><br>\n",
    "### User Bias in Data Cleaning\n",
    "For your homework assignment this week, we will explore how our treatment of our data can impact the quality of our results.\n",
    "\n",
    "**Dataset:**\n",
    "The data is a Salary Survey from AskAManager.org. It’s US-centric-ish but does allow for a range of country inputs.\n",
    "\n",
    "A list of the corresponding survey questions can be found [here](https://www.askamanager.org/2021/04/how-much-money-do-you-make-4.html).\n",
    "\n",
    " "
   ]
  },
  {
   "cell_type": "code",
   "execution_count": 1,
   "id": "50e411bc",
   "metadata": {},
   "outputs": [],
   "source": [
    "import pandas as pd"
   ]
  },
  {
   "cell_type": "code",
   "execution_count": 2,
   "id": "960098db-5807-4f89-85b4-be34e2a80484",
   "metadata": {},
   "outputs": [],
   "source": [
    "df= pd.read_csv('survey_data.csv')"
   ]
  },
  {
   "cell_type": "code",
   "execution_count": 3,
   "id": "7bb64b9a-0236-4153-9dc1-560c873d2a92",
   "metadata": {},
   "outputs": [
    {
     "name": "stdout",
     "output_type": "stream",
     "text": [
      "<class 'pandas.core.frame.DataFrame'>\n",
      "RangeIndex: 28108 entries, 0 to 28107\n",
      "Data columns (total 18 columns):\n",
      " #   Column     Non-Null Count  Dtype  \n",
      "---  ------     --------------  -----  \n",
      " 0   timestamp  28108 non-null  object \n",
      " 1   q1         28108 non-null  object \n",
      " 2   q2         28033 non-null  object \n",
      " 3   q3         28107 non-null  object \n",
      " 4   q4         7273 non-null   object \n",
      " 5   q5         28108 non-null  object \n",
      " 6   q6         20793 non-null  float64\n",
      " 7   q7         28108 non-null  object \n",
      " 8   q8         211 non-null    object \n",
      " 9   q9         3047 non-null   object \n",
      " 10  q10        28108 non-null  object \n",
      " 11  q11        23074 non-null  object \n",
      " 12  q12        28026 non-null  object \n",
      " 13  q13        28108 non-null  object \n",
      " 14  q14        28108 non-null  object \n",
      " 15  q15        27885 non-null  object \n",
      " 16  q16        27937 non-null  object \n",
      " 17  q17        27931 non-null  object \n",
      "dtypes: float64(1), object(17)\n",
      "memory usage: 3.9+ MB\n"
     ]
    }
   ],
   "source": [
    "df.info()"
   ]
  },
  {
   "cell_type": "code",
   "execution_count": 4,
   "id": "59804474-eb37-41f7-b958-1c604a24586d",
   "metadata": {},
   "outputs": [
    {
     "data": {
      "text/html": [
       "<div>\n",
       "<style scoped>\n",
       "    .dataframe tbody tr th:only-of-type {\n",
       "        vertical-align: middle;\n",
       "    }\n",
       "\n",
       "    .dataframe tbody tr th {\n",
       "        vertical-align: top;\n",
       "    }\n",
       "\n",
       "    .dataframe thead th {\n",
       "        text-align: right;\n",
       "    }\n",
       "</style>\n",
       "<table border=\"1\" class=\"dataframe\">\n",
       "  <thead>\n",
       "    <tr style=\"text-align: right;\">\n",
       "      <th></th>\n",
       "      <th>timestamp</th>\n",
       "      <th>q1</th>\n",
       "      <th>q2</th>\n",
       "      <th>q3</th>\n",
       "      <th>q4</th>\n",
       "      <th>q5</th>\n",
       "      <th>q6</th>\n",
       "      <th>q7</th>\n",
       "      <th>q8</th>\n",
       "      <th>q9</th>\n",
       "      <th>q10</th>\n",
       "      <th>q11</th>\n",
       "      <th>q12</th>\n",
       "      <th>q13</th>\n",
       "      <th>q14</th>\n",
       "      <th>q15</th>\n",
       "      <th>q16</th>\n",
       "      <th>q17</th>\n",
       "    </tr>\n",
       "  </thead>\n",
       "  <tbody>\n",
       "    <tr>\n",
       "      <th>0</th>\n",
       "      <td>4/27/2021 11:02:10</td>\n",
       "      <td>25-34</td>\n",
       "      <td>Education (Higher Education)</td>\n",
       "      <td>Research and Instruction Librarian</td>\n",
       "      <td>NaN</td>\n",
       "      <td>55,000</td>\n",
       "      <td>0.0</td>\n",
       "      <td>USD</td>\n",
       "      <td>NaN</td>\n",
       "      <td>NaN</td>\n",
       "      <td>United States</td>\n",
       "      <td>Massachusetts</td>\n",
       "      <td>Boston</td>\n",
       "      <td>5-7 years</td>\n",
       "      <td>5-7 years</td>\n",
       "      <td>Master's degree</td>\n",
       "      <td>Woman</td>\n",
       "      <td>White</td>\n",
       "    </tr>\n",
       "    <tr>\n",
       "      <th>1</th>\n",
       "      <td>4/27/2021 11:02:22</td>\n",
       "      <td>25-34</td>\n",
       "      <td>Computing or Tech</td>\n",
       "      <td>Change &amp; Internal Communications Manager</td>\n",
       "      <td>NaN</td>\n",
       "      <td>54,600</td>\n",
       "      <td>4000.0</td>\n",
       "      <td>GBP</td>\n",
       "      <td>NaN</td>\n",
       "      <td>NaN</td>\n",
       "      <td>United Kingdom</td>\n",
       "      <td>NaN</td>\n",
       "      <td>Cambridge</td>\n",
       "      <td>8 - 10 years</td>\n",
       "      <td>5-7 years</td>\n",
       "      <td>College degree</td>\n",
       "      <td>Non-binary</td>\n",
       "      <td>White</td>\n",
       "    </tr>\n",
       "    <tr>\n",
       "      <th>2</th>\n",
       "      <td>4/27/2021 11:02:38</td>\n",
       "      <td>25-34</td>\n",
       "      <td>Accounting, Banking &amp; Finance</td>\n",
       "      <td>Marketing Specialist</td>\n",
       "      <td>NaN</td>\n",
       "      <td>34,000</td>\n",
       "      <td>NaN</td>\n",
       "      <td>USD</td>\n",
       "      <td>NaN</td>\n",
       "      <td>NaN</td>\n",
       "      <td>US</td>\n",
       "      <td>Tennessee</td>\n",
       "      <td>Chattanooga</td>\n",
       "      <td>2 - 4 years</td>\n",
       "      <td>2 - 4 years</td>\n",
       "      <td>College degree</td>\n",
       "      <td>Woman</td>\n",
       "      <td>White</td>\n",
       "    </tr>\n",
       "    <tr>\n",
       "      <th>3</th>\n",
       "      <td>4/27/2021 11:02:41</td>\n",
       "      <td>25-34</td>\n",
       "      <td>Nonprofits</td>\n",
       "      <td>Program Manager</td>\n",
       "      <td>NaN</td>\n",
       "      <td>62,000</td>\n",
       "      <td>3000.0</td>\n",
       "      <td>USD</td>\n",
       "      <td>NaN</td>\n",
       "      <td>NaN</td>\n",
       "      <td>USA</td>\n",
       "      <td>Wisconsin</td>\n",
       "      <td>Milwaukee</td>\n",
       "      <td>8 - 10 years</td>\n",
       "      <td>5-7 years</td>\n",
       "      <td>College degree</td>\n",
       "      <td>Woman</td>\n",
       "      <td>White</td>\n",
       "    </tr>\n",
       "    <tr>\n",
       "      <th>4</th>\n",
       "      <td>4/27/2021 11:02:42</td>\n",
       "      <td>25-34</td>\n",
       "      <td>Accounting, Banking &amp; Finance</td>\n",
       "      <td>Accounting Manager</td>\n",
       "      <td>NaN</td>\n",
       "      <td>60,000</td>\n",
       "      <td>7000.0</td>\n",
       "      <td>USD</td>\n",
       "      <td>NaN</td>\n",
       "      <td>NaN</td>\n",
       "      <td>US</td>\n",
       "      <td>South Carolina</td>\n",
       "      <td>Greenville</td>\n",
       "      <td>8 - 10 years</td>\n",
       "      <td>5-7 years</td>\n",
       "      <td>College degree</td>\n",
       "      <td>Woman</td>\n",
       "      <td>White</td>\n",
       "    </tr>\n",
       "  </tbody>\n",
       "</table>\n",
       "</div>"
      ],
      "text/plain": [
       "            timestamp     q1                             q2  \\\n",
       "0  4/27/2021 11:02:10  25-34   Education (Higher Education)   \n",
       "1  4/27/2021 11:02:22  25-34              Computing or Tech   \n",
       "2  4/27/2021 11:02:38  25-34  Accounting, Banking & Finance   \n",
       "3  4/27/2021 11:02:41  25-34                     Nonprofits   \n",
       "4  4/27/2021 11:02:42  25-34  Accounting, Banking & Finance   \n",
       "\n",
       "                                         q3   q4      q5      q6   q7   q8  \\\n",
       "0        Research and Instruction Librarian  NaN  55,000     0.0  USD  NaN   \n",
       "1  Change & Internal Communications Manager  NaN  54,600  4000.0  GBP  NaN   \n",
       "2                      Marketing Specialist  NaN  34,000     NaN  USD  NaN   \n",
       "3                           Program Manager  NaN  62,000  3000.0  USD  NaN   \n",
       "4                        Accounting Manager  NaN  60,000  7000.0  USD  NaN   \n",
       "\n",
       "    q9             q10             q11          q12           q13  \\\n",
       "0  NaN   United States   Massachusetts       Boston     5-7 years   \n",
       "1  NaN  United Kingdom             NaN    Cambridge  8 - 10 years   \n",
       "2  NaN              US       Tennessee  Chattanooga   2 - 4 years   \n",
       "3  NaN             USA       Wisconsin    Milwaukee  8 - 10 years   \n",
       "4  NaN              US  South Carolina   Greenville  8 - 10 years   \n",
       "\n",
       "           q14              q15         q16    q17  \n",
       "0    5-7 years  Master's degree       Woman  White  \n",
       "1    5-7 years   College degree  Non-binary  White  \n",
       "2  2 - 4 years   College degree       Woman  White  \n",
       "3    5-7 years   College degree       Woman  White  \n",
       "4    5-7 years   College degree       Woman  White  "
      ]
     },
     "execution_count": 4,
     "metadata": {},
     "output_type": "execute_result"
    }
   ],
   "source": [
    "df.head()"
   ]
  },
  {
   "cell_type": "markdown",
   "id": "c1ce58c7-0e14-4426-a4b7-96805ea64bbb",
   "metadata": {},
   "source": [
    "### Assignment\n",
    "Your goal for this assignment is to observe how your data treatment during the cleaning process can skew or bias the dataset.\n",
    "\n",
    "Before diving right in, stop and read through the questions associated with the dataset. As you can see, they are either free-form text entries or categorical selections. Knowing this, perform some exploratory data analysis (EDA) to investigate the \"state\" of the dataset.\n",
    "\n",
    "[Add as many code cell below here as needs]\n"
   ]
  },
  {
   "cell_type": "code",
   "execution_count": 5,
   "id": "32fe5581-c12c-4b1d-bcde-be9bb0998553",
   "metadata": {},
   "outputs": [
    {
     "data": {
      "text/plain": [
       "q1\n",
       "25-34         12668\n",
       "35-44          9908\n",
       "45-54          3193\n",
       "18-24          1236\n",
       "55-64           994\n",
       "65 or over       95\n",
       "under 18         14\n",
       "Name: count, dtype: int64"
      ]
     },
     "execution_count": 5,
     "metadata": {},
     "output_type": "execute_result"
    }
   ],
   "source": [
    "df['q1'].value_counts()"
   ]
  },
  {
   "cell_type": "code",
   "execution_count": 10,
   "id": "ab526493",
   "metadata": {},
   "outputs": [
    {
     "data": {
      "text/plain": [
       "q7\n",
       "USD        23410\n",
       "CAD         1675\n",
       "GBP         1592\n",
       "EUR          646\n",
       "AUD/NZD      504\n",
       "Other        164\n",
       "CHF           37\n",
       "SEK           37\n",
       "JPY           23\n",
       "ZAR           16\n",
       "HKD            4\n",
       "Name: count, dtype: int64"
      ]
     },
     "execution_count": 10,
     "metadata": {},
     "output_type": "execute_result"
    }
   ],
   "source": [
    "df['q7'].value_counts()"
   ]
  },
  {
   "cell_type": "code",
   "execution_count": 11,
   "id": "cfc3fa5d",
   "metadata": {},
   "outputs": [
    {
     "data": {
      "text/plain": [
       "q11\n",
       "California                                 2611\n",
       "New York                                   2174\n",
       "Massachusetts                              1522\n",
       "Texas                                      1269\n",
       "Illinois                                   1213\n",
       "                                           ... \n",
       "Alaska, Idaho, Oregon, Utah, Washington       1\n",
       "Arizona, California, Nevada, Texas            1\n",
       "Illinois, Kentucky                            1\n",
       "Illinois, Wisconsin                           1\n",
       "Florida, Georgia                              1\n",
       "Name: count, Length: 137, dtype: int64"
      ]
     },
     "execution_count": 11,
     "metadata": {},
     "output_type": "execute_result"
    }
   ],
   "source": [
    "df['q11'].value_counts()"
   ]
  },
  {
   "cell_type": "code",
   "execution_count": 13,
   "id": "d6469c56",
   "metadata": {},
   "outputs": [
    {
     "data": {
      "text/plain": [
       "q13\n",
       "11 - 20 years       9630\n",
       "8 - 10 years        5381\n",
       "5-7 years           4886\n",
       "21 - 30 years       3645\n",
       "2 - 4 years         3038\n",
       "31 - 40 years        870\n",
       "1 year or less       533\n",
       "41 years or more     125\n",
       "Name: count, dtype: int64"
      ]
     },
     "execution_count": 13,
     "metadata": {},
     "output_type": "execute_result"
    }
   ],
   "source": [
    "df['q13'].value_counts()"
   ]
  },
  {
   "cell_type": "code",
   "execution_count": 14,
   "id": "8ead1868",
   "metadata": {},
   "outputs": [
    {
     "data": {
      "text/plain": [
       "q14\n",
       "11 - 20 years       6542\n",
       "5-7 years           6524\n",
       "2 - 4 years         6263\n",
       "8 - 10 years        4984\n",
       "21 - 30 years       1870\n",
       "1 year or less      1500\n",
       "31 - 40 years        384\n",
       "41 years or more      41\n",
       "Name: count, dtype: int64"
      ]
     },
     "execution_count": 14,
     "metadata": {},
     "output_type": "execute_result"
    }
   ],
   "source": [
    "df['q14'].value_counts()"
   ]
  },
  {
   "cell_type": "code",
   "execution_count": 15,
   "id": "a62bfaaa",
   "metadata": {},
   "outputs": [
    {
     "data": {
      "text/plain": [
       "q15\n",
       "College degree                        13536\n",
       "Master's degree                        8879\n",
       "Some college                           2075\n",
       "PhD                                    1427\n",
       "Professional degree (MD, JD, etc.)     1325\n",
       "High School                             643\n",
       "Name: count, dtype: int64"
      ]
     },
     "execution_count": 15,
     "metadata": {},
     "output_type": "execute_result"
    }
   ],
   "source": [
    "df['q15'].value_counts()"
   ]
  },
  {
   "cell_type": "code",
   "execution_count": 16,
   "id": "63ced372",
   "metadata": {},
   "outputs": [
    {
     "data": {
      "text/plain": [
       "q16\n",
       "Woman                            21389\n",
       "Man                               5502\n",
       "Non-binary                         747\n",
       "Other or prefer not to answer      298\n",
       "Prefer not to answer                 1\n",
       "Name: count, dtype: int64"
      ]
     },
     "execution_count": 16,
     "metadata": {},
     "output_type": "execute_result"
    }
   ],
   "source": [
    "df['q16'].value_counts()"
   ]
  },
  {
   "cell_type": "code",
   "execution_count": 17,
   "id": "7ad35518",
   "metadata": {},
   "outputs": [
    {
     "data": {
      "text/plain": [
       "q17\n",
       "White                                                                                                                                                                                                                           23235\n",
       "Asian or Asian American                                                                                                                                                                                                          1410\n",
       "Black or African American                                                                                                                                                                                                         694\n",
       "Another option not listed here or prefer not to answer                                                                                                                                                                            625\n",
       "Hispanic, Latino, or Spanish origin                                                                                                                                                                                               605\n",
       "Hispanic, Latino, or Spanish origin, White                                                                                                                                                                                        385\n",
       "Asian or Asian American, White                                                                                                                                                                                                    343\n",
       "Black or African American, White                                                                                                                                                                                                  123\n",
       "Middle Eastern or Northern African, White                                                                                                                                                                                          83\n",
       "Middle Eastern or Northern African                                                                                                                                                                                                 71\n",
       "Native American or Alaska Native, White                                                                                                                                                                                            68\n",
       "White, Another option not listed here or prefer not to answer                                                                                                                                                                      65\n",
       "Native American or Alaska Native                                                                                                                                                                                                   43\n",
       "Black or African American, Hispanic, Latino, or Spanish origin                                                                                                                                                                     28\n",
       "Asian or Asian American, Hispanic, Latino, or Spanish origin                                                                                                                                                                       14\n",
       "Asian or Asian American, Hispanic, Latino, or Spanish origin, White                                                                                                                                                                14\n",
       "Black or African American, Hispanic, Latino, or Spanish origin, White                                                                                                                                                              11\n",
       "Asian or Asian American, Another option not listed here or prefer not to answer                                                                                                                                                    11\n",
       "Hispanic, Latino, or Spanish origin, Native American or Alaska Native                                                                                                                                                              10\n",
       "Hispanic, Latino, or Spanish origin, Native American or Alaska Native, White                                                                                                                                                       10\n",
       "Asian or Asian American, Black or African American                                                                                                                                                                                  9\n",
       "Asian or Asian American, Middle Eastern or Northern African                                                                                                                                                                         7\n",
       "Asian or Asian American, Black or African American, White                                                                                                                                                                           6\n",
       "Black or African American, Native American or Alaska Native, White                                                                                                                                                                  6\n",
       "Asian or Asian American, White, Another option not listed here or prefer not to answer                                                                                                                                              6\n",
       "Hispanic, Latino, or Spanish origin, Another option not listed here or prefer not to answer                                                                                                                                         6\n",
       "Hispanic, Latino, or Spanish origin, Middle Eastern or Northern African, White                                                                                                                                                      5\n",
       "Black or African American, Middle Eastern or Northern African, White                                                                                                                                                                5\n",
       "Asian or Asian American, Native American or Alaska Native, White                                                                                                                                                                    4\n",
       "Black or African American, Hispanic, Latino, or Spanish origin, Native American or Alaska Native, White                                                                                                                             3\n",
       "Black or African American, Another option not listed here or prefer not to answer                                                                                                                                                   2\n",
       "Black or African American, Middle Eastern or Northern African                                                                                                                                                                       2\n",
       "Native American or Alaska Native, White, Another option not listed here or prefer not to answer                                                                                                                                     2\n",
       "Hispanic, Latino, or Spanish origin, Middle Eastern or Northern African                                                                                                                                                             2\n",
       "Middle Eastern or Northern African, White, Another option not listed here or prefer not to answer                                                                                                                                   2\n",
       "Black or African American, Native American or Alaska Native                                                                                                                                                                         1\n",
       "Asian or Asian American, Black or African American, Hispanic, Latino, or Spanish origin, Middle Eastern or Northern African, Native American or Alaska Native, White, Another option not listed here or prefer not to answer        1\n",
       "Asian or Asian American, Hispanic, Latino, or Spanish origin, White, Another option not listed here or prefer not to answer                                                                                                         1\n",
       "Asian or Asian American, Hispanic, Latino, or Spanish origin, Another option not listed here or prefer not to answer                                                                                                                1\n",
       "Middle Eastern or Northern African, Native American or Alaska Native                                                                                                                                                                1\n",
       "Asian or Asian American, Native American or Alaska Native                                                                                                                                                                           1\n",
       "Hispanic, Latino, or Spanish origin, Native American or Alaska Native, Another option not listed here or prefer not to answer                                                                                                       1\n",
       "Middle Eastern or Northern African, Native American or Alaska Native, White                                                                                                                                                         1\n",
       "Asian or Asian American, Middle Eastern or Northern African, White                                                                                                                                                                  1\n",
       "Native American or Alaska Native, Another option not listed here or prefer not to answer                                                                                                                                            1\n",
       "Asian or Asian American, Black or African American, Native American or Alaska Native, White                                                                                                                                         1\n",
       "Asian or Asian American, Black or African American, Hispanic, Latino, or Spanish origin                                                                                                                                             1\n",
       "Hispanic, Latino, or Spanish origin, White, Another option not listed here or prefer not to answer                                                                                                                                  1\n",
       "Black or African American, Middle Eastern or Northern African, Native American or Alaska Native, White                                                                                                                              1\n",
       "Asian or Asian American, Hispanic, Latino, or Spanish origin, Native American or Alaska Native, White                                                                                                                               1\n",
       "Asian or Asian American, Black or African American, Hispanic, Latino, or Spanish origin, Native American or Alaska Native                                                                                                           1\n",
       "Name: count, dtype: int64"
      ]
     },
     "execution_count": 17,
     "metadata": {},
     "output_type": "execute_result"
    }
   ],
   "source": [
    "df['q17'].value_counts()"
   ]
  },
  {
   "cell_type": "code",
   "execution_count": 18,
   "id": "e3252973",
   "metadata": {},
   "outputs": [
    {
     "data": {
      "text/plain": [
       "q2\n",
       "Computing or Tech                          4711\n",
       "Education (Higher Education)               2466\n",
       "Nonprofits                                 2420\n",
       "Health care                                1899\n",
       "Government and Public Administration       1893\n",
       "                                           ... \n",
       "Gaming (Gambling)                             1\n",
       "Regulatory Affairs- nutraceuticals            1\n",
       "Manufacturing : corporate admin support       1\n",
       "Real Estate Investment Support                1\n",
       "Social networks                               1\n",
       "Name: count, Length: 1220, dtype: int64"
      ]
     },
     "execution_count": 18,
     "metadata": {},
     "output_type": "execute_result"
    }
   ],
   "source": [
    "df['q2'].value_counts()"
   ]
  },
  {
   "cell_type": "code",
   "execution_count": 21,
   "id": "0ec6e5f3",
   "metadata": {},
   "outputs": [
    {
     "data": {
      "text/plain": [
       "q4\n",
       "Fundraising                                       20\n",
       "In commercial real estate industry                10\n",
       "Attorney                                           8\n",
       "Public library                                     7\n",
       "Librarian                                          7\n",
       "                                                  ..\n",
       "Internal communications for an edtech company      1\n",
       "Legal counsel to a state agency                    1\n",
       "Oversee all staff operations for academic unit     1\n",
       "AI startup                                         1\n",
       "Station Commander of an Army Recruiting Team       1\n",
       "Name: count, Length: 7010, dtype: int64"
      ]
     },
     "execution_count": 21,
     "metadata": {},
     "output_type": "execute_result"
    }
   ],
   "source": [
    "df['q4'].value_counts()"
   ]
  },
  {
   "cell_type": "code",
   "execution_count": 20,
   "id": "faccb975",
   "metadata": {},
   "outputs": [
    {
     "data": {
      "text/plain": [
       "q9\n",
       "Hourly                                                                                                 4\n",
       "Bonus not guaranteed                                                                                   3\n",
       "Stock                                                                                                  3\n",
       "10 month employee                                                                                      3\n",
       "Before tax                                                                                             3\n",
       "                                                                                                      ..\n",
       "My income is salaried but weekly hourly expectations are 55-60 hours per week.                         1\n",
       "I only work part time, so my actual take-home pay is closer to $40k/year.                              1\n",
       "Additional compensation is calculated as % of my annual salary based on the company annual results     1\n",
       "I'm paid minimum wage for my province                                                                  1\n",
       "full time pharmacist and superintendent                                                                1\n",
       "Name: count, Length: 2983, dtype: int64"
      ]
     },
     "execution_count": 20,
     "metadata": {},
     "output_type": "execute_result"
    }
   ],
   "source": [
    "df['q9'].value_counts()"
   ]
  },
  {
   "cell_type": "code",
   "execution_count": 22,
   "id": "f325014e",
   "metadata": {},
   "outputs": [
    {
     "data": {
      "text/plain": [
       "q8\n",
       "INR                                       11\n",
       "SGD                                       11\n",
       "USD                                       11\n",
       "NOK                                       10\n",
       "DKK                                        8\n",
       "                                          ..\n",
       "US Dollar                                  1\n",
       "AUD & NZD are not the same currency...     1\n",
       "55,000                                     1\n",
       "ILS/NIS                                    1\n",
       "TZS                                        1\n",
       "Name: count, Length: 124, dtype: int64"
      ]
     },
     "execution_count": 22,
     "metadata": {},
     "output_type": "execute_result"
    }
   ],
   "source": [
    "df['q8'].value_counts()"
   ]
  },
  {
   "cell_type": "markdown",
   "id": "7a848f6e-a0e2-43a2-90fa-76821daed60c",
   "metadata": {},
   "source": [
    "**Question:** How would you describe the \"state\" of this dataset? Be specific and detailed in your answer. (Think paragraphs rather than sentences).\n",
    "\n",
    "Looking at some of the value counts for our categorical selection answers, it is obvious that this was answered by experienced, white, americans that are mostly over 25 years old. There are some underrepresented populations as well, with more entries being from middle eastern/white people than from only middle eastern. This doesn't necessarily mean there is a bias here, but one consideration is the format of the questionair. All of the questions are in english, and the survey is a google form survey. These two details already narrow the field to people most likely to answer the form to be Americans and people who are fluent with technology. Looking at the second question answers, we can see that 'Computing or Tech' is the number one response with almost double the amount of entries as the second most counted response, 'Higher Education'. \n",
    "\n",
    "There are a few catagories that could be deleted for the sake of an ML system, like questions 4 and 9. Questions 4 and 9 have more unanswered entried than they do answered entries, and based on the value counts they are all answeres that provide context to a single specific circumstance of either pay or employment. Not enough relevent information to be worth searching through. Question 8 also has more unanswered submissions than answered, however the information provided in question 8 currency types. Question 8 has about 200 answers, while the entire dataset has over 28000 entries, making only about 0.7% of entried using question 8 to provide useful information, assuming all submissions were understood and all of the question 8 entries are accurate, not duplicates to question 7 or misunderstood answeres. "
   ]
  },
  {
   "cell_type": "markdown",
   "id": "320e3606-db07-41fa-a6b1-f31c3b6ffbde",
   "metadata": {},
   "source": [
    "#### The Plan"
   ]
  },
  {
   "cell_type": "markdown",
   "id": "6cdfa01e-9eb1-4dcd-a5c0-a42e4b3b53a9",
   "metadata": {},
   "source": [
    "Now, it is time to plan how you will clean up the dataset. You **are not** allowed to use any machine learning technique to clean the data. (No SMOTE! No machine learning! Or anything like that!)\n",
    "\n",
    "**Question:** Based on your EDA above, detail how you would clean up this dataset. \n",
    "Things to consider: (This is not an exhaustive list)\n",
    "- Are there columns that can't be effectively cleaned? If so, why?\n",
    "- Are there columns that genuinely won't have a data value?\n",
    "- Does it make sense to segment the dataset based on specific columns when determining how to handle the missing values?\n",
    "- Are outliers a factor in this dataset?\n",
    "\n",
    "Remember preserving as much of the data as possible is the goal. That means dropping rows with a missing value somewhere might not be the best idea.\n",
    "\n",
    "For simplicity sake, I would remove questions 4, 8, and 9, saving resources by not having to sort through that data that is mostly empty or just extra detail. Question 8 could be important data but seeing as less than 1% of the dataset answered question 8, the question 7 answer of 'Other\" can be its own category should the need arise. \n",
    "\n",
    "There is nothing to do after the data has been collected to represent the under-represented. The most effective way to get data to include all parties with relevent information would be to offer the survey in different laguages and using different methods, such as a paper version. From a companies sake, a single survey connected to a csv is probably the easiest way to gather and organize a good amount of data, but with that being the only way to answer the questions, there will be bias towards white people who are tech savvy. Depending on the questions asked and information needed from the dataset, maybe those of non-white ethnicity could be flagged with a greater importance to try and balance the dataset. \n",
    "\n",
    "Machine learning could potentially be used to fill out any blanks in question 15, but that seems to be the only question that could coorelate with the other mandatory responses in the survey.\n",
    "\n",
    "There are enough entries that should all be seperate, so any outliers would have to astronomical to make a notable difference on any group statistics.\n",
    "\n",
    "The only mandatory question that doesn't have all 28108 is question 3, where someone got away with leaving their job title empty. The rest of the questions that have missing entries are not required to be filled out in the survey, so for one reason or another the users have left those questions blank. No matter the reason, I don't think it would be fair to try and predict what any of the non-mandatory answers could be as the users left them blank for a reason. If we wanted to go and fill in any blanks, the questions should have been mandatory and had a 'Prefer not to answer' and 'N/A' options, so that there would be as many entries as possible and shows that the information is important to the survey.\n",
    "\n",
    "The only exception to this I see if for question 6, we can fill the Nan values with a 0. I think the wording of the question, or lack thereof, can lead people who don't make any sort of bonus to leave the field blank rather than putting in a 0. "
   ]
  },
  {
   "cell_type": "markdown",
   "id": "ca688475-573d-4cd7-b29a-fecf53ff6976",
   "metadata": {},
   "source": [
    "#### Implementation"
   ]
  },
  {
   "cell_type": "markdown",
   "id": "a286a2a7-a6b6-4f77-9e46-1f5e9602bb03",
   "metadata": {},
   "source": [
    "Based on the plan the you described above, go ahead and clean up the dataset.\n",
    "\n",
    "[Add as many code cell below here as needs]"
   ]
  },
  {
   "cell_type": "code",
   "execution_count": 23,
   "id": "4ef6cd10",
   "metadata": {},
   "outputs": [
    {
     "data": {
      "text/html": [
       "<div>\n",
       "<style scoped>\n",
       "    .dataframe tbody tr th:only-of-type {\n",
       "        vertical-align: middle;\n",
       "    }\n",
       "\n",
       "    .dataframe tbody tr th {\n",
       "        vertical-align: top;\n",
       "    }\n",
       "\n",
       "    .dataframe thead th {\n",
       "        text-align: right;\n",
       "    }\n",
       "</style>\n",
       "<table border=\"1\" class=\"dataframe\">\n",
       "  <thead>\n",
       "    <tr style=\"text-align: right;\">\n",
       "      <th></th>\n",
       "      <th>timestamp</th>\n",
       "      <th>q1</th>\n",
       "      <th>q2</th>\n",
       "      <th>q3</th>\n",
       "      <th>q4</th>\n",
       "      <th>q5</th>\n",
       "      <th>q6</th>\n",
       "      <th>q7</th>\n",
       "      <th>q8</th>\n",
       "      <th>q9</th>\n",
       "      <th>q10</th>\n",
       "      <th>q11</th>\n",
       "      <th>q12</th>\n",
       "      <th>q13</th>\n",
       "      <th>q14</th>\n",
       "      <th>q15</th>\n",
       "      <th>q16</th>\n",
       "      <th>q17</th>\n",
       "    </tr>\n",
       "  </thead>\n",
       "  <tbody>\n",
       "    <tr>\n",
       "      <th>0</th>\n",
       "      <td>4/27/2021 11:02:10</td>\n",
       "      <td>25-34</td>\n",
       "      <td>Education (Higher Education)</td>\n",
       "      <td>Research and Instruction Librarian</td>\n",
       "      <td>NaN</td>\n",
       "      <td>55,000</td>\n",
       "      <td>0.0</td>\n",
       "      <td>USD</td>\n",
       "      <td>NaN</td>\n",
       "      <td>NaN</td>\n",
       "      <td>United States</td>\n",
       "      <td>Massachusetts</td>\n",
       "      <td>Boston</td>\n",
       "      <td>5-7 years</td>\n",
       "      <td>5-7 years</td>\n",
       "      <td>Master's degree</td>\n",
       "      <td>Woman</td>\n",
       "      <td>White</td>\n",
       "    </tr>\n",
       "    <tr>\n",
       "      <th>1</th>\n",
       "      <td>4/27/2021 11:02:22</td>\n",
       "      <td>25-34</td>\n",
       "      <td>Computing or Tech</td>\n",
       "      <td>Change &amp; Internal Communications Manager</td>\n",
       "      <td>NaN</td>\n",
       "      <td>54,600</td>\n",
       "      <td>4000.0</td>\n",
       "      <td>GBP</td>\n",
       "      <td>NaN</td>\n",
       "      <td>NaN</td>\n",
       "      <td>United Kingdom</td>\n",
       "      <td>NaN</td>\n",
       "      <td>Cambridge</td>\n",
       "      <td>8 - 10 years</td>\n",
       "      <td>5-7 years</td>\n",
       "      <td>College degree</td>\n",
       "      <td>Non-binary</td>\n",
       "      <td>White</td>\n",
       "    </tr>\n",
       "    <tr>\n",
       "      <th>2</th>\n",
       "      <td>4/27/2021 11:02:38</td>\n",
       "      <td>25-34</td>\n",
       "      <td>Accounting, Banking &amp; Finance</td>\n",
       "      <td>Marketing Specialist</td>\n",
       "      <td>NaN</td>\n",
       "      <td>34,000</td>\n",
       "      <td>NaN</td>\n",
       "      <td>USD</td>\n",
       "      <td>NaN</td>\n",
       "      <td>NaN</td>\n",
       "      <td>US</td>\n",
       "      <td>Tennessee</td>\n",
       "      <td>Chattanooga</td>\n",
       "      <td>2 - 4 years</td>\n",
       "      <td>2 - 4 years</td>\n",
       "      <td>College degree</td>\n",
       "      <td>Woman</td>\n",
       "      <td>White</td>\n",
       "    </tr>\n",
       "    <tr>\n",
       "      <th>3</th>\n",
       "      <td>4/27/2021 11:02:41</td>\n",
       "      <td>25-34</td>\n",
       "      <td>Nonprofits</td>\n",
       "      <td>Program Manager</td>\n",
       "      <td>NaN</td>\n",
       "      <td>62,000</td>\n",
       "      <td>3000.0</td>\n",
       "      <td>USD</td>\n",
       "      <td>NaN</td>\n",
       "      <td>NaN</td>\n",
       "      <td>USA</td>\n",
       "      <td>Wisconsin</td>\n",
       "      <td>Milwaukee</td>\n",
       "      <td>8 - 10 years</td>\n",
       "      <td>5-7 years</td>\n",
       "      <td>College degree</td>\n",
       "      <td>Woman</td>\n",
       "      <td>White</td>\n",
       "    </tr>\n",
       "    <tr>\n",
       "      <th>4</th>\n",
       "      <td>4/27/2021 11:02:42</td>\n",
       "      <td>25-34</td>\n",
       "      <td>Accounting, Banking &amp; Finance</td>\n",
       "      <td>Accounting Manager</td>\n",
       "      <td>NaN</td>\n",
       "      <td>60,000</td>\n",
       "      <td>7000.0</td>\n",
       "      <td>USD</td>\n",
       "      <td>NaN</td>\n",
       "      <td>NaN</td>\n",
       "      <td>US</td>\n",
       "      <td>South Carolina</td>\n",
       "      <td>Greenville</td>\n",
       "      <td>8 - 10 years</td>\n",
       "      <td>5-7 years</td>\n",
       "      <td>College degree</td>\n",
       "      <td>Woman</td>\n",
       "      <td>White</td>\n",
       "    </tr>\n",
       "  </tbody>\n",
       "</table>\n",
       "</div>"
      ],
      "text/plain": [
       "            timestamp     q1                             q2  \\\n",
       "0  4/27/2021 11:02:10  25-34   Education (Higher Education)   \n",
       "1  4/27/2021 11:02:22  25-34              Computing or Tech   \n",
       "2  4/27/2021 11:02:38  25-34  Accounting, Banking & Finance   \n",
       "3  4/27/2021 11:02:41  25-34                     Nonprofits   \n",
       "4  4/27/2021 11:02:42  25-34  Accounting, Banking & Finance   \n",
       "\n",
       "                                         q3   q4      q5      q6   q7   q8  \\\n",
       "0        Research and Instruction Librarian  NaN  55,000     0.0  USD  NaN   \n",
       "1  Change & Internal Communications Manager  NaN  54,600  4000.0  GBP  NaN   \n",
       "2                      Marketing Specialist  NaN  34,000     NaN  USD  NaN   \n",
       "3                           Program Manager  NaN  62,000  3000.0  USD  NaN   \n",
       "4                        Accounting Manager  NaN  60,000  7000.0  USD  NaN   \n",
       "\n",
       "    q9             q10             q11          q12           q13  \\\n",
       "0  NaN   United States   Massachusetts       Boston     5-7 years   \n",
       "1  NaN  United Kingdom             NaN    Cambridge  8 - 10 years   \n",
       "2  NaN              US       Tennessee  Chattanooga   2 - 4 years   \n",
       "3  NaN             USA       Wisconsin    Milwaukee  8 - 10 years   \n",
       "4  NaN              US  South Carolina   Greenville  8 - 10 years   \n",
       "\n",
       "           q14              q15         q16    q17  \n",
       "0    5-7 years  Master's degree       Woman  White  \n",
       "1    5-7 years   College degree  Non-binary  White  \n",
       "2  2 - 4 years   College degree       Woman  White  \n",
       "3    5-7 years   College degree       Woman  White  \n",
       "4    5-7 years   College degree       Woman  White  "
      ]
     },
     "execution_count": 23,
     "metadata": {},
     "output_type": "execute_result"
    }
   ],
   "source": [
    "df.head(5)"
   ]
  },
  {
   "cell_type": "code",
   "execution_count": 24,
   "id": "4e539139-1ced-4772-95a0-60d58bb72f4a",
   "metadata": {},
   "outputs": [],
   "source": [
    "df = df.drop(columns=['q4', 'q8', 'q9'])"
   ]
  },
  {
   "cell_type": "code",
   "execution_count": 26,
   "id": "32b4cc26",
   "metadata": {},
   "outputs": [],
   "source": [
    "df['q6'] = df['q6'].fillna(0)"
   ]
  },
  {
   "cell_type": "code",
   "execution_count": 27,
   "id": "9303cf10",
   "metadata": {},
   "outputs": [
    {
     "data": {
      "text/html": [
       "<div>\n",
       "<style scoped>\n",
       "    .dataframe tbody tr th:only-of-type {\n",
       "        vertical-align: middle;\n",
       "    }\n",
       "\n",
       "    .dataframe tbody tr th {\n",
       "        vertical-align: top;\n",
       "    }\n",
       "\n",
       "    .dataframe thead th {\n",
       "        text-align: right;\n",
       "    }\n",
       "</style>\n",
       "<table border=\"1\" class=\"dataframe\">\n",
       "  <thead>\n",
       "    <tr style=\"text-align: right;\">\n",
       "      <th></th>\n",
       "      <th>timestamp</th>\n",
       "      <th>q1</th>\n",
       "      <th>q2</th>\n",
       "      <th>q3</th>\n",
       "      <th>q5</th>\n",
       "      <th>q6</th>\n",
       "      <th>q7</th>\n",
       "      <th>q10</th>\n",
       "      <th>q11</th>\n",
       "      <th>q12</th>\n",
       "      <th>q13</th>\n",
       "      <th>q14</th>\n",
       "      <th>q15</th>\n",
       "      <th>q16</th>\n",
       "      <th>q17</th>\n",
       "    </tr>\n",
       "  </thead>\n",
       "  <tbody>\n",
       "    <tr>\n",
       "      <th>0</th>\n",
       "      <td>4/27/2021 11:02:10</td>\n",
       "      <td>25-34</td>\n",
       "      <td>Education (Higher Education)</td>\n",
       "      <td>Research and Instruction Librarian</td>\n",
       "      <td>55,000</td>\n",
       "      <td>0.0</td>\n",
       "      <td>USD</td>\n",
       "      <td>United States</td>\n",
       "      <td>Massachusetts</td>\n",
       "      <td>Boston</td>\n",
       "      <td>5-7 years</td>\n",
       "      <td>5-7 years</td>\n",
       "      <td>Master's degree</td>\n",
       "      <td>Woman</td>\n",
       "      <td>White</td>\n",
       "    </tr>\n",
       "    <tr>\n",
       "      <th>1</th>\n",
       "      <td>4/27/2021 11:02:22</td>\n",
       "      <td>25-34</td>\n",
       "      <td>Computing or Tech</td>\n",
       "      <td>Change &amp; Internal Communications Manager</td>\n",
       "      <td>54,600</td>\n",
       "      <td>4000.0</td>\n",
       "      <td>GBP</td>\n",
       "      <td>United Kingdom</td>\n",
       "      <td>NaN</td>\n",
       "      <td>Cambridge</td>\n",
       "      <td>8 - 10 years</td>\n",
       "      <td>5-7 years</td>\n",
       "      <td>College degree</td>\n",
       "      <td>Non-binary</td>\n",
       "      <td>White</td>\n",
       "    </tr>\n",
       "    <tr>\n",
       "      <th>2</th>\n",
       "      <td>4/27/2021 11:02:38</td>\n",
       "      <td>25-34</td>\n",
       "      <td>Accounting, Banking &amp; Finance</td>\n",
       "      <td>Marketing Specialist</td>\n",
       "      <td>34,000</td>\n",
       "      <td>0.0</td>\n",
       "      <td>USD</td>\n",
       "      <td>US</td>\n",
       "      <td>Tennessee</td>\n",
       "      <td>Chattanooga</td>\n",
       "      <td>2 - 4 years</td>\n",
       "      <td>2 - 4 years</td>\n",
       "      <td>College degree</td>\n",
       "      <td>Woman</td>\n",
       "      <td>White</td>\n",
       "    </tr>\n",
       "    <tr>\n",
       "      <th>3</th>\n",
       "      <td>4/27/2021 11:02:41</td>\n",
       "      <td>25-34</td>\n",
       "      <td>Nonprofits</td>\n",
       "      <td>Program Manager</td>\n",
       "      <td>62,000</td>\n",
       "      <td>3000.0</td>\n",
       "      <td>USD</td>\n",
       "      <td>USA</td>\n",
       "      <td>Wisconsin</td>\n",
       "      <td>Milwaukee</td>\n",
       "      <td>8 - 10 years</td>\n",
       "      <td>5-7 years</td>\n",
       "      <td>College degree</td>\n",
       "      <td>Woman</td>\n",
       "      <td>White</td>\n",
       "    </tr>\n",
       "    <tr>\n",
       "      <th>4</th>\n",
       "      <td>4/27/2021 11:02:42</td>\n",
       "      <td>25-34</td>\n",
       "      <td>Accounting, Banking &amp; Finance</td>\n",
       "      <td>Accounting Manager</td>\n",
       "      <td>60,000</td>\n",
       "      <td>7000.0</td>\n",
       "      <td>USD</td>\n",
       "      <td>US</td>\n",
       "      <td>South Carolina</td>\n",
       "      <td>Greenville</td>\n",
       "      <td>8 - 10 years</td>\n",
       "      <td>5-7 years</td>\n",
       "      <td>College degree</td>\n",
       "      <td>Woman</td>\n",
       "      <td>White</td>\n",
       "    </tr>\n",
       "  </tbody>\n",
       "</table>\n",
       "</div>"
      ],
      "text/plain": [
       "            timestamp     q1                             q2  \\\n",
       "0  4/27/2021 11:02:10  25-34   Education (Higher Education)   \n",
       "1  4/27/2021 11:02:22  25-34              Computing or Tech   \n",
       "2  4/27/2021 11:02:38  25-34  Accounting, Banking & Finance   \n",
       "3  4/27/2021 11:02:41  25-34                     Nonprofits   \n",
       "4  4/27/2021 11:02:42  25-34  Accounting, Banking & Finance   \n",
       "\n",
       "                                         q3      q5      q6   q7  \\\n",
       "0        Research and Instruction Librarian  55,000     0.0  USD   \n",
       "1  Change & Internal Communications Manager  54,600  4000.0  GBP   \n",
       "2                      Marketing Specialist  34,000     0.0  USD   \n",
       "3                           Program Manager  62,000  3000.0  USD   \n",
       "4                        Accounting Manager  60,000  7000.0  USD   \n",
       "\n",
       "              q10             q11          q12           q13          q14  \\\n",
       "0   United States   Massachusetts       Boston     5-7 years    5-7 years   \n",
       "1  United Kingdom             NaN    Cambridge  8 - 10 years    5-7 years   \n",
       "2              US       Tennessee  Chattanooga   2 - 4 years  2 - 4 years   \n",
       "3             USA       Wisconsin    Milwaukee  8 - 10 years    5-7 years   \n",
       "4              US  South Carolina   Greenville  8 - 10 years    5-7 years   \n",
       "\n",
       "               q15         q16    q17  \n",
       "0  Master's degree       Woman  White  \n",
       "1   College degree  Non-binary  White  \n",
       "2   College degree       Woman  White  \n",
       "3   College degree       Woman  White  \n",
       "4   College degree       Woman  White  "
      ]
     },
     "execution_count": 27,
     "metadata": {},
     "output_type": "execute_result"
    }
   ],
   "source": [
    "df.head(5)"
   ]
  },
  {
   "cell_type": "markdown",
   "id": "49774589-0d4f-4423-bfe5-7a4e04310b2c",
   "metadata": {},
   "source": [
    "#### Reflection\n",
    "Write a short reflection (400-500 words) answering the following: \n",
    "- What were the biggest issues you encountered in the messy dataset?\n",
    "- How did cleaning the dataset improve its usability for machine learning?\n",
    "- What would happen if we trained a model on the messy dataset vs. the cleaned one?\n",
    "- Do you feel you skewed or biased the dataset while cleaning it?\n",
    "\n",
    "I'm not sure if the purpose of this assignment was to jump through a bunch of technical hoops trying to figure out different ways to manipulate the data but based on my assesment of the data, I don't believe all of that is neccessary. Without having very specific questions to answer, it is hard to tell what data is going to be useful or not. Im not entirly sure how long it takes for a ML system to read through empty cells, but having removed 3/18 columns, removing 84324 cells, I would assume that provides some level of increased efficiency for future analysis. Considering I did not feel the need to remove any single entries, I don't believe any of the numbers would change if analysis was done on the cleaned vs the uncleaned version. After changing the NaN values in q6 to 0, any analysis done using that information would be a lot lower assuming the NaN values would have been ignored previously. \n",
    "\n",
    "I don't believe I have caused any notable bias. When removing question 8, I removed a lot of currencies, so those countries and people that use those currencies are all represented under \"other\" which does bias the overall representation of the population, but as noted above, less than 1% of entries had filled out question 8, and some of the entries were repeats of question 7. With quesion 4, any additional context doesn't change the option they picked for question 3. Question 3 has an option to fill out a profession with the 'other' option, where any main information should be provided. Any additional context could be useful if a majority or at least over half of the entires had context, then we could search for keywords and phrases to possibly identify similarities and differences between users, however about 1/4th of the entries provided additional context. With such a small portion providing additional details, we would just be creating another subset of users, catagoriziong those that did answer question 4 seperatly from the rest of the dataset, creating our own bias. Same goes for question 9, not enough people answered question 9 to justify using the information provided. About 1/8th of entries had question 9 completed, so any analysis on question 9 would only be applicable to a subset of the data, creating a bias to those entries using any finding from data using question 9.\n",
    "\n",
    "Overall I think if I was provided the reason for the survey or what research was to be done on the dataset, more questions could be ignored or certain entries could be catagorized or flagged. Given a lack of context to the survey and data, aside from collecting the info simply to have the information, it is difficult to make any judgements on what information should be \"cleaned\" or altered for clarity and efficiency. All of the edits I have made have been made because they are details that could bias any findings, and provide very little information and insight if left alone."
   ]
  },
  {
   "cell_type": "markdown",
   "id": "c146cde6-43d7-4be6-ada4-abbdd8377e6a",
   "metadata": {},
   "source": [
    "## Deliverables\n",
    "Upload your Jupyter Notebook to your GitHub repo and then provide a link to that repo in Worlclass. "
   ]
  },
  {
   "cell_type": "code",
   "execution_count": null,
   "id": "255643a1-8e6a-4615-83a4-4c0d29d55b9e",
   "metadata": {},
   "outputs": [],
   "source": []
  }
 ],
 "metadata": {
  "kernelspec": {
   "display_name": "base",
   "language": "python",
   "name": "python3"
  },
  "language_info": {
   "codemirror_mode": {
    "name": "ipython",
    "version": 3
   },
   "file_extension": ".py",
   "mimetype": "text/x-python",
   "name": "python",
   "nbconvert_exporter": "python",
   "pygments_lexer": "ipython3",
   "version": "3.12.3"
  }
 },
 "nbformat": 4,
 "nbformat_minor": 5
}
